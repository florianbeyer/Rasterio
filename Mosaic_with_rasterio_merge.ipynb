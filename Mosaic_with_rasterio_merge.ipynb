{
 "cells": [
  {
   "cell_type": "code",
   "execution_count": 37,
   "metadata": {},
   "outputs": [],
   "source": [
    "import rasterio\n",
    "\n",
    "from rasterio import merge\n",
    "\n",
    "import glob\n",
    "import os\n",
    "import subprocess\n",
    "import sys\n",
    "\n",
    "import numpy as np"
   ]
  },
  {
   "cell_type": "code",
   "execution_count": 39,
   "metadata": {},
   "outputs": [],
   "source": [
    "infolder = r'N:\\\\Projekt_PROSPER_RO\\\\Data_RS\\\\Sentinel2\\\\008_mosaicing_daten\\\\'\n",
    "outfolder = r'N:\\\\Projekt_PROSPER_RO\\\\Data_RS\\\\Sentinel2\\\\008_mosaicing_done\\\\'"
   ]
  },
  {
   "cell_type": "code",
   "execution_count": 40,
   "metadata": {},
   "outputs": [],
   "source": [
    "def mosaic_images(folder_path, output_path):\n",
    "    temp = os.path.join(folder_path, '*.tif')\n",
    "    files = glob.glob(temp)\n",
    "    temp = None\n",
    "    files\n",
    "    \n",
    "    files_to_mosaic = []\n",
    "    for i in files:\n",
    "        src = rasterio.open(i)\n",
    "        files_to_mosaic.append(src)\n",
    "    files_to_mosaic\n",
    "    \n",
    "    mosaic, out_trans = merge(files_to_mosaic, nodata=0)\n",
    "    \n",
    "    out_meta = src.meta.copy()\n",
    "    \n",
    "    out_meta.update({\"driver\": \"GTiff\",\n",
    "                 \"height\": mosaic.shape[1],\n",
    "                 \"width\": mosaic.shape[2],\n",
    "                 \"transform\": out_trans,\n",
    "                 \"crs\": rasterio.crs.CRS({'init': u'epsg:32633'})})\n",
    "    \n",
    "    filename = output_path+files[:-12]+'mosaic.tif'\n",
    "    with rasterio.open(filename, \"w\", **out_meta) as dest:\n",
    "        dest.write(mosaic)"
   ]
  },
  {
   "cell_type": "code",
   "execution_count": 42,
   "metadata": {},
   "outputs": [
    {
     "name": "stdout",
     "output_type": "stream",
     "text": [
      "N:\\Projekt_PROSPER_RO\\Data_RS\\Sentinel2\\20180420\n",
      "N:\\Projekt_PROSPER_RO\\Data_RS\\Sentinel2\\20180505\n",
      "N:\\Projekt_PROSPER_RO\\Data_RS\\Sentinel2\\20180507\n",
      "N:\\Projekt_PROSPER_RO\\Data_RS\\Sentinel2\\20180520\n",
      "N:\\Projekt_PROSPER_RO\\Data_RS\\Sentinel2\\20180530\n",
      "N:\\Projekt_PROSPER_RO\\Data_RS\\Sentinel2\\20180606\n",
      "N:\\Projekt_PROSPER_RO\\Data_RS\\Sentinel2\\20180704\n",
      "N:\\Projekt_PROSPER_RO\\Data_RS\\Sentinel2\\20180706\n",
      "N:\\Projekt_PROSPER_RO\\Data_RS\\Sentinel2\\20180719\n",
      "N:\\Projekt_PROSPER_RO\\Data_RS\\Sentinel2\\20180726\n",
      "N:\\Projekt_PROSPER_RO\\Data_RS\\Sentinel2\\20180731\n",
      "N:\\Projekt_PROSPER_RO\\Data_RS\\Sentinel2\\20180803\n",
      "N:\\Projekt_PROSPER_RO\\Data_RS\\Sentinel2\\20180919\n",
      "N:\\Projekt_PROSPER_RO\\Data_RS\\Sentinel2\\20181012\n",
      "N:\\Projekt_PROSPER_RO\\Data_RS\\Sentinel2\\20181014\n",
      "N:\\Projekt_PROSPER_RO\\Data_RS\\Sentinel2\\20181103\n",
      "N:\\Projekt_PROSPER_RO\\Data_RS\\Sentinel2\\20181106\n",
      "N:\\Projekt_PROSPER_RO\\Data_RS\\Sentinel2\\20181116\n",
      "N:\\Projekt_PROSPER_RO\\Data_RS\\Sentinel2\\20181126\n",
      "N:\\Projekt_PROSPER_RO\\Data_RS\\Sentinel2\\20181128\n"
     ]
    }
   ],
   "source": [
    "all_files = os.listdir(infolder)\n",
    "\n",
    "all_folders = []\n",
    "for i in range(len(all_files)):\n",
    "    all_files[i]=folder+all_files[i]\n",
    "    if os.path.isdir(all_files[i]):\n",
    "        all_folders.append(all_files[i])\n",
    "    print all_files[i]\n",
    "\n",
    "all_files=None"
   ]
  },
  {
   "cell_type": "code",
   "execution_count": null,
   "metadata": {},
   "outputs": [],
   "source": []
  },
  {
   "cell_type": "code",
   "execution_count": null,
   "metadata": {},
   "outputs": [],
   "source": [
    "for i in range(len(all_folders)):\n",
    "    mosaic_images(all_folders[i],outfolder)\n",
    "    print '{} / {} Mosaicing done for {}'.format(i+1, len(all_folders)+1, all_folders[i])\n",
    "    "
   ]
  },
  {
   "cell_type": "code",
   "execution_count": null,
   "metadata": {},
   "outputs": [],
   "source": []
  },
  {
   "cell_type": "code",
   "execution_count": null,
   "metadata": {},
   "outputs": [],
   "source": []
  },
  {
   "cell_type": "code",
   "execution_count": null,
   "metadata": {},
   "outputs": [],
   "source": []
  },
  {
   "cell_type": "code",
   "execution_count": null,
   "metadata": {},
   "outputs": [],
   "source": [
    "dddd"
   ]
  },
  {
   "cell_type": "code",
   "execution_count": null,
   "metadata": {},
   "outputs": [],
   "source": []
  },
  {
   "cell_type": "code",
   "execution_count": null,
   "metadata": {},
   "outputs": [],
   "source": [
    "# search all datasets in UTM32\n",
    "temp = os.path.join(infolder, '*.tif')\n",
    "files = glob.glob(temp)\n",
    "temp = None\n",
    "files"
   ]
  },
  {
   "cell_type": "code",
   "execution_count": null,
   "metadata": {},
   "outputs": [],
   "source": [
    "files_to_mosaic = []\n",
    "for i in files:\n",
    "    src = rasterio.open(i)\n",
    "    files_to_mosaic.append(src)\n",
    "files_to_mosaic"
   ]
  },
  {
   "cell_type": "code",
   "execution_count": 35,
   "metadata": {},
   "outputs": [],
   "source": [
    "mosaic, out_trans = merge(files_to_mosaic, nodata=0)"
   ]
  },
  {
   "cell_type": "code",
   "execution_count": null,
   "metadata": {},
   "outputs": [],
   "source": []
  },
  {
   "cell_type": "code",
   "execution_count": 36,
   "metadata": {},
   "outputs": [
    {
     "data": {
      "text/plain": [
       "Affine(10.000330170033877, 0.0, 267638.48376639135,\n",
       "       0.0, -10.000046358902173, 6026912.982380347)"
      ]
     },
     "execution_count": 36,
     "metadata": {},
     "output_type": "execute_result"
    }
   ],
   "source": [
    "out_trans\n",
    "#show(mosaic, cmap='terrain')"
   ]
  },
  {
   "cell_type": "code",
   "execution_count": 37,
   "metadata": {},
   "outputs": [
    {
     "data": {
      "text/plain": [
       "(13L, 6614L, 47876L)"
      ]
     },
     "execution_count": 37,
     "metadata": {},
     "output_type": "execute_result"
    }
   ],
   "source": [
    "mosaic.shape"
   ]
  },
  {
   "cell_type": "code",
   "execution_count": 38,
   "metadata": {},
   "outputs": [
    {
     "data": {
      "text/plain": [
       "{'count': 13,\n",
       " 'crs': CRS({'init': u'epsg:32633'}),\n",
       " 'driver': u'GTiff',\n",
       " 'dtype': 'uint16',\n",
       " 'height': 6420,\n",
       " 'nodata': None,\n",
       " 'transform': Affine(9.999594334296685, 0.0, 267638.48376639135,\n",
       "       0.0, -10.000397878967377, 6024976.622107641),\n",
       " 'width': 8535}"
      ]
     },
     "execution_count": 38,
     "metadata": {},
     "output_type": "execute_result"
    }
   ],
   "source": [
    "out_meta = src.meta.copy()\n",
    "out_meta"
   ]
  },
  {
   "cell_type": "code",
   "execution_count": 39,
   "metadata": {},
   "outputs": [
    {
     "data": {
      "text/plain": [
       "{'count': 13,\n",
       " 'crs': CRS({'init': u'epsg:32633'}),\n",
       " 'driver': 'GTiff',\n",
       " 'dtype': 'uint16',\n",
       " 'height': 6614L,\n",
       " 'nodata': None,\n",
       " 'transform': Affine(10.000330170033877, 0.0, 267638.48376639135,\n",
       "       0.0, -10.000046358902173, 6026912.982380347),\n",
       " 'width': 47876L}"
      ]
     },
     "execution_count": 39,
     "metadata": {},
     "output_type": "execute_result"
    }
   ],
   "source": [
    "out_meta.update({\"driver\": \"GTiff\",\n",
    "                 \"height\": mosaic.shape[1],\n",
    "                 \"width\": mosaic.shape[2],\n",
    "                 \"transform\": out_trans,\n",
    "                 \"crs\": rasterio.crs.CRS({'init': u'epsg:32633'})})\n",
    "\n",
    "out_meta"
   ]
  },
  {
   "cell_type": "code",
   "execution_count": 40,
   "metadata": {},
   "outputs": [],
   "source": [
    "with rasterio.open(outfolder, \"w\", **out_meta) as dest:\n",
    "    dest.write(mosaic)"
   ]
  },
  {
   "cell_type": "code",
   "execution_count": null,
   "metadata": {},
   "outputs": [],
   "source": []
  },
  {
   "cell_type": "code",
   "execution_count": null,
   "metadata": {},
   "outputs": [],
   "source": []
  }
 ],
 "metadata": {
  "kernelspec": {
   "display_name": "Python 2",
   "language": "python",
   "name": "python2"
  },
  "language_info": {
   "codemirror_mode": {
    "name": "ipython",
    "version": 2
   },
   "file_extension": ".py",
   "mimetype": "text/x-python",
   "name": "python",
   "nbconvert_exporter": "python",
   "pygments_lexer": "ipython2",
   "version": "2.7.14"
  }
 },
 "nbformat": 4,
 "nbformat_minor": 2
}
