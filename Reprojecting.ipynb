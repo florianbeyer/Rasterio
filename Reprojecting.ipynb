{
 "cells": [
  {
   "cell_type": "markdown",
   "metadata": {},
   "source": [
    "#  Script: Reproject dataset with rasterio\n",
    "\n",
    "#### Florian Beyer\n",
    "\n",
    "2019-03-13\n",
    "\n",
    "Version 0.1"
   ]
  },
  {
   "cell_type": "code",
   "execution_count": 1,
   "metadata": {},
   "outputs": [],
   "source": [
    "# required packages\n",
    "import rasterio\n",
    "from rasterio.warp import calculate_default_transform, reproject, Resampling\n",
    "\n",
    "import glob\n",
    "import os\n",
    "import sys\n",
    "\n",
    "import numpy as np"
   ]
  },
  {
   "cell_type": "code",
   "execution_count": 2,
   "metadata": {},
   "outputs": [],
   "source": [
    "# where are the images?\n",
    "infolder = r'N:\\\\Projekt_PROSPER_RO\\\\Data_RS\\\\Sentinel2\\\\004_Subsets_wolkenfrei'\n",
    "\n",
    "# where to save the reprojected images\n",
    "outfolder = r'N:\\\\Projekt_PROSPER_RO\\\\Data_RS\\\\Sentinel2\\\\005_Convert_UTM32_to_UTM33\\\\'\n",
    "\n",
    "# target coordinate system as epsg code (http://spatialreference.org/)\n",
    "target_crs = 'EPSG:32633'"
   ]
  },
  {
   "cell_type": "code",
   "execution_count": 3,
   "metadata": {},
   "outputs": [],
   "source": [
    "def reproject_tiff(image, dst_crs, save_path, out_filename):\n",
    "    '''\n",
    "    https://github.com/mapbox/rasterio/blob/master/docs/topics/reproject.rst\n",
    "    \n",
    "    Reprojecting a GeoTIFF dataset\n",
    "    Reprojecting a GeoTIFF dataset from one coordinate reference system is a common use case.\n",
    "    Rasterio provides a few utilities to make this even easier:\n",
    "        - transform_bounds() transforms the bounding coordinates of the source raster to the target\n",
    "          coordinate reference system, densifiying points along the edges to account for non-linear\n",
    "          transformations of the edges.\n",
    "\n",
    "        - calculate_default_transform() transforms bounds to target coordinate system, calculates\n",
    "          resolution if not provided, and returns destination transform and dimensions.\n",
    "    \n",
    "    image: rasterio dataset (multiband image)\n",
    "    dst_crs: target cordinatesystem as epsg code\n",
    "    save_path: string with the path where the image will be saved\n",
    "    out_filename: filename of the reprojected image\n",
    "    '''\n",
    "    \n",
    "    src = image\n",
    "    transform,width,height = calculate_default_transform(src.crs, dst_crs, src.width, src.height, *src.bounds)\n",
    "    # get infromation of the initial dataset\n",
    "    \n",
    "    kwargs = src.meta.copy() #copy metadata\n",
    "\n",
    "    kwargs.update({ # update metadata with the target coordinate system\n",
    "        'crs': dst_crs,\n",
    "        'transform':transform,\n",
    "        'width': width,\n",
    "        'height': height\n",
    "    })\n",
    "    \n",
    "    with rasterio.open(save_path+out_filename, 'w', **kwargs) as dst:\n",
    "        '''\n",
    "        Writes the nee image with the target coordinate system\n",
    "        '''\n",
    "        for i in range(1, src.count + 1):\n",
    "            rasterio.warp.reproject(\n",
    "            source=rasterio.band(src, i),\n",
    "            destination=rasterio.band(dst,i),\n",
    "            src_transform=src.transform,\n",
    "            src_crs=src.crs,\n",
    "            dst_transform=transform,\n",
    "            dst_crs=dst_crs,\n",
    "            resampling=rasterio.warp.Resampling.nearest # choose a method\n",
    "            )"
   ]
  },
  {
   "cell_type": "code",
   "execution_count": 4,
   "metadata": {},
   "outputs": [
    {
     "data": {
      "text/plain": [
       "['N:\\\\\\\\Projekt_PROSPER_RO\\\\\\\\Data_RS\\\\\\\\Sentinel2\\\\\\\\004_Subsets_wolkenfrei\\\\20180420_S2B_MSIL2A_T32UPE_s.tif',\n",
       " 'N:\\\\\\\\Projekt_PROSPER_RO\\\\\\\\Data_RS\\\\\\\\Sentinel2\\\\\\\\004_Subsets_wolkenfrei\\\\20180420_S2B_MSIL2A_T32UPF_s.tif',\n",
       " 'N:\\\\\\\\Projekt_PROSPER_RO\\\\\\\\Data_RS\\\\\\\\Sentinel2\\\\\\\\004_Subsets_wolkenfrei\\\\20180505_S2A_MSIL2A_T32UPF_s.tif',\n",
       " 'N:\\\\\\\\Projekt_PROSPER_RO\\\\\\\\Data_RS\\\\\\\\Sentinel2\\\\\\\\004_Subsets_wolkenfrei\\\\20180507_S2B_MSIL2A_T32UPE_s.tif',\n",
       " 'N:\\\\\\\\Projekt_PROSPER_RO\\\\\\\\Data_RS\\\\\\\\Sentinel2\\\\\\\\004_Subsets_wolkenfrei\\\\20180507_S2B_MSIL2A_T32UPF_s.tif',\n",
       " 'N:\\\\\\\\Projekt_PROSPER_RO\\\\\\\\Data_RS\\\\\\\\Sentinel2\\\\\\\\004_Subsets_wolkenfrei\\\\20180520_S2B_MSIL2A_T32UPE_s.tif',\n",
       " 'N:\\\\\\\\Projekt_PROSPER_RO\\\\\\\\Data_RS\\\\\\\\Sentinel2\\\\\\\\004_Subsets_wolkenfrei\\\\20180520_S2B_MSIL2A_T32UPF_s.tif',\n",
       " 'N:\\\\\\\\Projekt_PROSPER_RO\\\\\\\\Data_RS\\\\\\\\Sentinel2\\\\\\\\004_Subsets_wolkenfrei\\\\20180530_S2B_MSIL2A_T32UPE_s.tif',\n",
       " 'N:\\\\\\\\Projekt_PROSPER_RO\\\\\\\\Data_RS\\\\\\\\Sentinel2\\\\\\\\004_Subsets_wolkenfrei\\\\20180530_S2B_MSIL2A_T32UPF_s.tif',\n",
       " 'N:\\\\\\\\Projekt_PROSPER_RO\\\\\\\\Data_RS\\\\\\\\Sentinel2\\\\\\\\004_Subsets_wolkenfrei\\\\20180606_S2B_MSIL2A_T32UPE_s.tif',\n",
       " 'N:\\\\\\\\Projekt_PROSPER_RO\\\\\\\\Data_RS\\\\\\\\Sentinel2\\\\\\\\004_Subsets_wolkenfrei\\\\20180606_S2B_MSIL2A_T32UPF_s.tif',\n",
       " 'N:\\\\\\\\Projekt_PROSPER_RO\\\\\\\\Data_RS\\\\\\\\Sentinel2\\\\\\\\004_Subsets_wolkenfrei\\\\20180704_S2A_MSIL2A_T32UPE_s.tif',\n",
       " 'N:\\\\\\\\Projekt_PROSPER_RO\\\\\\\\Data_RS\\\\\\\\Sentinel2\\\\\\\\004_Subsets_wolkenfrei\\\\20180704_S2A_MSIL2A_T32UPF_s.tif',\n",
       " 'N:\\\\\\\\Projekt_PROSPER_RO\\\\\\\\Data_RS\\\\\\\\Sentinel2\\\\\\\\004_Subsets_wolkenfrei\\\\20180706_S2B_MSIL2A_T32UPE_s.tif',\n",
       " 'N:\\\\\\\\Projekt_PROSPER_RO\\\\\\\\Data_RS\\\\\\\\Sentinel2\\\\\\\\004_Subsets_wolkenfrei\\\\20180706_S2B_MSIL2A_T32UPF_s.tif',\n",
       " 'N:\\\\\\\\Projekt_PROSPER_RO\\\\\\\\Data_RS\\\\\\\\Sentinel2\\\\\\\\004_Subsets_wolkenfrei\\\\20180719_S2B_MSIL2A_T32UPE_s.tif',\n",
       " 'N:\\\\\\\\Projekt_PROSPER_RO\\\\\\\\Data_RS\\\\\\\\Sentinel2\\\\\\\\004_Subsets_wolkenfrei\\\\20180719_S2B_MSIL2A_T32UPF_s.tif',\n",
       " 'N:\\\\\\\\Projekt_PROSPER_RO\\\\\\\\Data_RS\\\\\\\\Sentinel2\\\\\\\\004_Subsets_wolkenfrei\\\\20180726_S2B_MSIL2A_T32UPE_s.tif',\n",
       " 'N:\\\\\\\\Projekt_PROSPER_RO\\\\\\\\Data_RS\\\\\\\\Sentinel2\\\\\\\\004_Subsets_wolkenfrei\\\\20180726_S2B_MSIL2A_T32UPF_s.tif',\n",
       " 'N:\\\\\\\\Projekt_PROSPER_RO\\\\\\\\Data_RS\\\\\\\\Sentinel2\\\\\\\\004_Subsets_wolkenfrei\\\\20180731_S2A_MSIL2A_T32UPE_s.tif',\n",
       " 'N:\\\\\\\\Projekt_PROSPER_RO\\\\\\\\Data_RS\\\\\\\\Sentinel2\\\\\\\\004_Subsets_wolkenfrei\\\\20180731_S2A_MSIL2A_T32UPF_s.tif',\n",
       " 'N:\\\\\\\\Projekt_PROSPER_RO\\\\\\\\Data_RS\\\\\\\\Sentinel2\\\\\\\\004_Subsets_wolkenfrei\\\\20180803_S2A_MSIL2A_T32UPE_s.tif',\n",
       " 'N:\\\\\\\\Projekt_PROSPER_RO\\\\\\\\Data_RS\\\\\\\\Sentinel2\\\\\\\\004_Subsets_wolkenfrei\\\\20180803_S2A_MSIL2A_T32UPF_s.tif',\n",
       " 'N:\\\\\\\\Projekt_PROSPER_RO\\\\\\\\Data_RS\\\\\\\\Sentinel2\\\\\\\\004_Subsets_wolkenfrei\\\\20180919_S2A_MSIL2A_T32UPE_s.tif',\n",
       " 'N:\\\\\\\\Projekt_PROSPER_RO\\\\\\\\Data_RS\\\\\\\\Sentinel2\\\\\\\\004_Subsets_wolkenfrei\\\\20180919_S2A_MSIL2A_T32UPF_s.tif',\n",
       " 'N:\\\\\\\\Projekt_PROSPER_RO\\\\\\\\Data_RS\\\\\\\\Sentinel2\\\\\\\\004_Subsets_wolkenfrei\\\\20181012_S2A_MSIL2A_T32UPE_s.tif',\n",
       " 'N:\\\\\\\\Projekt_PROSPER_RO\\\\\\\\Data_RS\\\\\\\\Sentinel2\\\\\\\\004_Subsets_wolkenfrei\\\\20181012_S2A_MSIL2A_T32UPF_s.tif',\n",
       " 'N:\\\\\\\\Projekt_PROSPER_RO\\\\\\\\Data_RS\\\\\\\\Sentinel2\\\\\\\\004_Subsets_wolkenfrei\\\\20181014_S2B_MSIL2A_T32UPE_s.tif',\n",
       " 'N:\\\\\\\\Projekt_PROSPER_RO\\\\\\\\Data_RS\\\\\\\\Sentinel2\\\\\\\\004_Subsets_wolkenfrei\\\\20181014_S2B_MSIL2A_T32UPF_s.tif',\n",
       " 'N:\\\\\\\\Projekt_PROSPER_RO\\\\\\\\Data_RS\\\\\\\\Sentinel2\\\\\\\\004_Subsets_wolkenfrei\\\\20181103_S2B_MSIL2A_T32UPE_s.tif',\n",
       " 'N:\\\\\\\\Projekt_PROSPER_RO\\\\\\\\Data_RS\\\\\\\\Sentinel2\\\\\\\\004_Subsets_wolkenfrei\\\\20181103_S2B_MSIL2A_T32UPF_s.tif',\n",
       " 'N:\\\\\\\\Projekt_PROSPER_RO\\\\\\\\Data_RS\\\\\\\\Sentinel2\\\\\\\\004_Subsets_wolkenfrei\\\\20181106_S2B_MSIL2A_T32UPE_s.tif',\n",
       " 'N:\\\\\\\\Projekt_PROSPER_RO\\\\\\\\Data_RS\\\\\\\\Sentinel2\\\\\\\\004_Subsets_wolkenfrei\\\\20181106_S2B_MSIL2A_T32UPF_s.tif',\n",
       " 'N:\\\\\\\\Projekt_PROSPER_RO\\\\\\\\Data_RS\\\\\\\\Sentinel2\\\\\\\\004_Subsets_wolkenfrei\\\\20181116_S2B_MSIL2A_T32UPE_s.tif',\n",
       " 'N:\\\\\\\\Projekt_PROSPER_RO\\\\\\\\Data_RS\\\\\\\\Sentinel2\\\\\\\\004_Subsets_wolkenfrei\\\\20181116_S2B_MSIL2A_T32UPF_s.tif',\n",
       " 'N:\\\\\\\\Projekt_PROSPER_RO\\\\\\\\Data_RS\\\\\\\\Sentinel2\\\\\\\\004_Subsets_wolkenfrei\\\\20181126_S2B_MSIL2A_T32UPE_s.tif',\n",
       " 'N:\\\\\\\\Projekt_PROSPER_RO\\\\\\\\Data_RS\\\\\\\\Sentinel2\\\\\\\\004_Subsets_wolkenfrei\\\\20181126_S2B_MSIL2A_T32UPF_s.tif',\n",
       " 'N:\\\\\\\\Projekt_PROSPER_RO\\\\\\\\Data_RS\\\\\\\\Sentinel2\\\\\\\\004_Subsets_wolkenfrei\\\\20181128_S2A_MSIL2A_T32UPE_s.tif',\n",
       " 'N:\\\\\\\\Projekt_PROSPER_RO\\\\\\\\Data_RS\\\\\\\\Sentinel2\\\\\\\\004_Subsets_wolkenfrei\\\\20181128_S2A_MSIL2A_T32UPF_s.tif']"
      ]
     },
     "execution_count": 4,
     "metadata": {},
     "output_type": "execute_result"
    }
   ],
   "source": [
    "# search all datasets in UTM32\n",
    "temp = os.path.join(infolder, '*T32*.tif') ### Attention! hard coded --> *T32\n",
    "files = glob.glob(temp)\n",
    "temp = None\n",
    "files"
   ]
  },
  {
   "cell_type": "code",
   "execution_count": 5,
   "metadata": {},
   "outputs": [
    {
     "data": {
      "text/plain": [
       "[<open DatasetReader name='N:\\\\Projekt_PROSPER_RO\\\\Data_RS\\\\Sentinel2\\\\004_Subsets_wolkenfrei\\20180420_S2B_MSIL2A_T32UPE_s.tif' mode='r'>,\n",
       " <open DatasetReader name='N:\\\\Projekt_PROSPER_RO\\\\Data_RS\\\\Sentinel2\\\\004_Subsets_wolkenfrei\\20180420_S2B_MSIL2A_T32UPF_s.tif' mode='r'>,\n",
       " <open DatasetReader name='N:\\\\Projekt_PROSPER_RO\\\\Data_RS\\\\Sentinel2\\\\004_Subsets_wolkenfrei\\20180505_S2A_MSIL2A_T32UPF_s.tif' mode='r'>,\n",
       " <open DatasetReader name='N:\\\\Projekt_PROSPER_RO\\\\Data_RS\\\\Sentinel2\\\\004_Subsets_wolkenfrei\\20180507_S2B_MSIL2A_T32UPE_s.tif' mode='r'>,\n",
       " <open DatasetReader name='N:\\\\Projekt_PROSPER_RO\\\\Data_RS\\\\Sentinel2\\\\004_Subsets_wolkenfrei\\20180507_S2B_MSIL2A_T32UPF_s.tif' mode='r'>,\n",
       " <open DatasetReader name='N:\\\\Projekt_PROSPER_RO\\\\Data_RS\\\\Sentinel2\\\\004_Subsets_wolkenfrei\\20180520_S2B_MSIL2A_T32UPE_s.tif' mode='r'>,\n",
       " <open DatasetReader name='N:\\\\Projekt_PROSPER_RO\\\\Data_RS\\\\Sentinel2\\\\004_Subsets_wolkenfrei\\20180520_S2B_MSIL2A_T32UPF_s.tif' mode='r'>,\n",
       " <open DatasetReader name='N:\\\\Projekt_PROSPER_RO\\\\Data_RS\\\\Sentinel2\\\\004_Subsets_wolkenfrei\\20180530_S2B_MSIL2A_T32UPE_s.tif' mode='r'>,\n",
       " <open DatasetReader name='N:\\\\Projekt_PROSPER_RO\\\\Data_RS\\\\Sentinel2\\\\004_Subsets_wolkenfrei\\20180530_S2B_MSIL2A_T32UPF_s.tif' mode='r'>,\n",
       " <open DatasetReader name='N:\\\\Projekt_PROSPER_RO\\\\Data_RS\\\\Sentinel2\\\\004_Subsets_wolkenfrei\\20180606_S2B_MSIL2A_T32UPE_s.tif' mode='r'>,\n",
       " <open DatasetReader name='N:\\\\Projekt_PROSPER_RO\\\\Data_RS\\\\Sentinel2\\\\004_Subsets_wolkenfrei\\20180606_S2B_MSIL2A_T32UPF_s.tif' mode='r'>,\n",
       " <open DatasetReader name='N:\\\\Projekt_PROSPER_RO\\\\Data_RS\\\\Sentinel2\\\\004_Subsets_wolkenfrei\\20180704_S2A_MSIL2A_T32UPE_s.tif' mode='r'>,\n",
       " <open DatasetReader name='N:\\\\Projekt_PROSPER_RO\\\\Data_RS\\\\Sentinel2\\\\004_Subsets_wolkenfrei\\20180704_S2A_MSIL2A_T32UPF_s.tif' mode='r'>,\n",
       " <open DatasetReader name='N:\\\\Projekt_PROSPER_RO\\\\Data_RS\\\\Sentinel2\\\\004_Subsets_wolkenfrei\\20180706_S2B_MSIL2A_T32UPE_s.tif' mode='r'>,\n",
       " <open DatasetReader name='N:\\\\Projekt_PROSPER_RO\\\\Data_RS\\\\Sentinel2\\\\004_Subsets_wolkenfrei\\20180706_S2B_MSIL2A_T32UPF_s.tif' mode='r'>,\n",
       " <open DatasetReader name='N:\\\\Projekt_PROSPER_RO\\\\Data_RS\\\\Sentinel2\\\\004_Subsets_wolkenfrei\\20180719_S2B_MSIL2A_T32UPE_s.tif' mode='r'>,\n",
       " <open DatasetReader name='N:\\\\Projekt_PROSPER_RO\\\\Data_RS\\\\Sentinel2\\\\004_Subsets_wolkenfrei\\20180719_S2B_MSIL2A_T32UPF_s.tif' mode='r'>,\n",
       " <open DatasetReader name='N:\\\\Projekt_PROSPER_RO\\\\Data_RS\\\\Sentinel2\\\\004_Subsets_wolkenfrei\\20180726_S2B_MSIL2A_T32UPE_s.tif' mode='r'>,\n",
       " <open DatasetReader name='N:\\\\Projekt_PROSPER_RO\\\\Data_RS\\\\Sentinel2\\\\004_Subsets_wolkenfrei\\20180726_S2B_MSIL2A_T32UPF_s.tif' mode='r'>,\n",
       " <open DatasetReader name='N:\\\\Projekt_PROSPER_RO\\\\Data_RS\\\\Sentinel2\\\\004_Subsets_wolkenfrei\\20180731_S2A_MSIL2A_T32UPE_s.tif' mode='r'>,\n",
       " <open DatasetReader name='N:\\\\Projekt_PROSPER_RO\\\\Data_RS\\\\Sentinel2\\\\004_Subsets_wolkenfrei\\20180731_S2A_MSIL2A_T32UPF_s.tif' mode='r'>,\n",
       " <open DatasetReader name='N:\\\\Projekt_PROSPER_RO\\\\Data_RS\\\\Sentinel2\\\\004_Subsets_wolkenfrei\\20180803_S2A_MSIL2A_T32UPE_s.tif' mode='r'>,\n",
       " <open DatasetReader name='N:\\\\Projekt_PROSPER_RO\\\\Data_RS\\\\Sentinel2\\\\004_Subsets_wolkenfrei\\20180803_S2A_MSIL2A_T32UPF_s.tif' mode='r'>,\n",
       " <open DatasetReader name='N:\\\\Projekt_PROSPER_RO\\\\Data_RS\\\\Sentinel2\\\\004_Subsets_wolkenfrei\\20180919_S2A_MSIL2A_T32UPE_s.tif' mode='r'>,\n",
       " <open DatasetReader name='N:\\\\Projekt_PROSPER_RO\\\\Data_RS\\\\Sentinel2\\\\004_Subsets_wolkenfrei\\20180919_S2A_MSIL2A_T32UPF_s.tif' mode='r'>,\n",
       " <open DatasetReader name='N:\\\\Projekt_PROSPER_RO\\\\Data_RS\\\\Sentinel2\\\\004_Subsets_wolkenfrei\\20181012_S2A_MSIL2A_T32UPE_s.tif' mode='r'>,\n",
       " <open DatasetReader name='N:\\\\Projekt_PROSPER_RO\\\\Data_RS\\\\Sentinel2\\\\004_Subsets_wolkenfrei\\20181012_S2A_MSIL2A_T32UPF_s.tif' mode='r'>,\n",
       " <open DatasetReader name='N:\\\\Projekt_PROSPER_RO\\\\Data_RS\\\\Sentinel2\\\\004_Subsets_wolkenfrei\\20181014_S2B_MSIL2A_T32UPE_s.tif' mode='r'>,\n",
       " <open DatasetReader name='N:\\\\Projekt_PROSPER_RO\\\\Data_RS\\\\Sentinel2\\\\004_Subsets_wolkenfrei\\20181014_S2B_MSIL2A_T32UPF_s.tif' mode='r'>,\n",
       " <open DatasetReader name='N:\\\\Projekt_PROSPER_RO\\\\Data_RS\\\\Sentinel2\\\\004_Subsets_wolkenfrei\\20181103_S2B_MSIL2A_T32UPE_s.tif' mode='r'>,\n",
       " <open DatasetReader name='N:\\\\Projekt_PROSPER_RO\\\\Data_RS\\\\Sentinel2\\\\004_Subsets_wolkenfrei\\20181103_S2B_MSIL2A_T32UPF_s.tif' mode='r'>,\n",
       " <open DatasetReader name='N:\\\\Projekt_PROSPER_RO\\\\Data_RS\\\\Sentinel2\\\\004_Subsets_wolkenfrei\\20181106_S2B_MSIL2A_T32UPE_s.tif' mode='r'>,\n",
       " <open DatasetReader name='N:\\\\Projekt_PROSPER_RO\\\\Data_RS\\\\Sentinel2\\\\004_Subsets_wolkenfrei\\20181106_S2B_MSIL2A_T32UPF_s.tif' mode='r'>,\n",
       " <open DatasetReader name='N:\\\\Projekt_PROSPER_RO\\\\Data_RS\\\\Sentinel2\\\\004_Subsets_wolkenfrei\\20181116_S2B_MSIL2A_T32UPE_s.tif' mode='r'>,\n",
       " <open DatasetReader name='N:\\\\Projekt_PROSPER_RO\\\\Data_RS\\\\Sentinel2\\\\004_Subsets_wolkenfrei\\20181116_S2B_MSIL2A_T32UPF_s.tif' mode='r'>,\n",
       " <open DatasetReader name='N:\\\\Projekt_PROSPER_RO\\\\Data_RS\\\\Sentinel2\\\\004_Subsets_wolkenfrei\\20181126_S2B_MSIL2A_T32UPE_s.tif' mode='r'>,\n",
       " <open DatasetReader name='N:\\\\Projekt_PROSPER_RO\\\\Data_RS\\\\Sentinel2\\\\004_Subsets_wolkenfrei\\20181126_S2B_MSIL2A_T32UPF_s.tif' mode='r'>,\n",
       " <open DatasetReader name='N:\\\\Projekt_PROSPER_RO\\\\Data_RS\\\\Sentinel2\\\\004_Subsets_wolkenfrei\\20181128_S2A_MSIL2A_T32UPE_s.tif' mode='r'>,\n",
       " <open DatasetReader name='N:\\\\Projekt_PROSPER_RO\\\\Data_RS\\\\Sentinel2\\\\004_Subsets_wolkenfrei\\20181128_S2A_MSIL2A_T32UPF_s.tif' mode='r'>]"
      ]
     },
     "execution_count": 5,
     "metadata": {},
     "output_type": "execute_result"
    }
   ],
   "source": [
    "# read all dataset with rasterio\n",
    "files_to_reproject = []\n",
    "for i in files:\n",
    "    src = rasterio.open(i)\n",
    "    files_to_reproject.append(src)\n",
    "files_to_reproject"
   ]
  },
  {
   "cell_type": "code",
   "execution_count": 6,
   "metadata": {},
   "outputs": [
    {
     "name": "stdout",
     "output_type": "stream",
     "text": [
      "20180420_S2B_MSIL2A_T32UPE_s_reproject.tif reprojected to EPSG:32633\n",
      "20180420_S2B_MSIL2A_T32UPF_s_reproject.tif reprojected to EPSG:32633\n",
      "20180505_S2A_MSIL2A_T32UPF_s_reproject.tif reprojected to EPSG:32633\n",
      "20180507_S2B_MSIL2A_T32UPE_s_reproject.tif reprojected to EPSG:32633\n",
      "20180507_S2B_MSIL2A_T32UPF_s_reproject.tif reprojected to EPSG:32633\n",
      "20180520_S2B_MSIL2A_T32UPE_s_reproject.tif reprojected to EPSG:32633\n",
      "20180520_S2B_MSIL2A_T32UPF_s_reproject.tif reprojected to EPSG:32633\n",
      "20180530_S2B_MSIL2A_T32UPE_s_reproject.tif reprojected to EPSG:32633\n",
      "20180530_S2B_MSIL2A_T32UPF_s_reproject.tif reprojected to EPSG:32633\n",
      "20180606_S2B_MSIL2A_T32UPE_s_reproject.tif reprojected to EPSG:32633\n",
      "20180606_S2B_MSIL2A_T32UPF_s_reproject.tif reprojected to EPSG:32633\n",
      "20180704_S2A_MSIL2A_T32UPE_s_reproject.tif reprojected to EPSG:32633\n",
      "20180704_S2A_MSIL2A_T32UPF_s_reproject.tif reprojected to EPSG:32633\n",
      "20180706_S2B_MSIL2A_T32UPE_s_reproject.tif reprojected to EPSG:32633\n",
      "20180706_S2B_MSIL2A_T32UPF_s_reproject.tif reprojected to EPSG:32633\n",
      "20180719_S2B_MSIL2A_T32UPE_s_reproject.tif reprojected to EPSG:32633\n",
      "20180719_S2B_MSIL2A_T32UPF_s_reproject.tif reprojected to EPSG:32633\n",
      "20180726_S2B_MSIL2A_T32UPE_s_reproject.tif reprojected to EPSG:32633\n",
      "20180726_S2B_MSIL2A_T32UPF_s_reproject.tif reprojected to EPSG:32633\n",
      "20180731_S2A_MSIL2A_T32UPE_s_reproject.tif reprojected to EPSG:32633\n",
      "20180731_S2A_MSIL2A_T32UPF_s_reproject.tif reprojected to EPSG:32633\n",
      "20180803_S2A_MSIL2A_T32UPE_s_reproject.tif reprojected to EPSG:32633\n",
      "20180803_S2A_MSIL2A_T32UPF_s_reproject.tif reprojected to EPSG:32633\n",
      "20180919_S2A_MSIL2A_T32UPE_s_reproject.tif reprojected to EPSG:32633\n",
      "20180919_S2A_MSIL2A_T32UPF_s_reproject.tif reprojected to EPSG:32633\n",
      "20181012_S2A_MSIL2A_T32UPE_s_reproject.tif reprojected to EPSG:32633\n",
      "20181012_S2A_MSIL2A_T32UPF_s_reproject.tif reprojected to EPSG:32633\n",
      "20181014_S2B_MSIL2A_T32UPE_s_reproject.tif reprojected to EPSG:32633\n",
      "20181014_S2B_MSIL2A_T32UPF_s_reproject.tif reprojected to EPSG:32633\n",
      "20181103_S2B_MSIL2A_T32UPE_s_reproject.tif reprojected to EPSG:32633\n",
      "20181103_S2B_MSIL2A_T32UPF_s_reproject.tif reprojected to EPSG:32633\n",
      "20181106_S2B_MSIL2A_T32UPE_s_reproject.tif reprojected to EPSG:32633\n",
      "20181106_S2B_MSIL2A_T32UPF_s_reproject.tif reprojected to EPSG:32633\n",
      "20181116_S2B_MSIL2A_T32UPE_s_reproject.tif reprojected to EPSG:32633\n",
      "20181116_S2B_MSIL2A_T32UPF_s_reproject.tif reprojected to EPSG:32633\n",
      "20181126_S2B_MSIL2A_T32UPE_s_reproject.tif reprojected to EPSG:32633\n",
      "20181126_S2B_MSIL2A_T32UPF_s_reproject.tif reprojected to EPSG:32633\n",
      "20181128_S2A_MSIL2A_T32UPE_s_reproject.tif reprojected to EPSG:32633\n",
      "20181128_S2A_MSIL2A_T32UPF_s_reproject.tif reprojected to EPSG:32633\n"
     ]
    }
   ],
   "source": [
    "for i in range(len(files)):\n",
    "    '''\n",
    "    loop over all rasterio datsets in order to reproject all images\n",
    "    '''\n",
    "    filename = files[i][-32:-4]+'_reproject.tif' # attention! it's hard coded\n",
    "    reproject_tiff(image=files_to_reproject[i],\n",
    "                   dst_crs=target_crs,\n",
    "                   save_path=outfolder,\n",
    "                   out_filename=filename)\n",
    "    print filename + ' reprojected to ' + target_crs"
   ]
  },
  {
   "cell_type": "code",
   "execution_count": 7,
   "metadata": {},
   "outputs": [],
   "source": [
    "# for one single image:\n",
    "src = rasterio.open(r'N:\\\\Projekt_PROSPER_RO\\\\Data_RS\\\\Sentinel2\\\\003_Subsetting\\\\20180505_S2A_MSIL2A_T32UPE_s.tif')"
   ]
  },
  {
   "cell_type": "code",
   "execution_count": 8,
   "metadata": {},
   "outputs": [],
   "source": [
    "# for one single image:\n",
    "reproject_tiff(image=src,\n",
    "               dst_crs=target_crs,\n",
    "               save_path='N:\\\\Projekt_PROSPER_RO\\\\Data_RS\\\\Sentinel2\\\\005_Convert_UTM32_to_UTM33\\\\',\n",
    "               out_filename='20180505_S2A_MSIL2A_T32UPE_s_reproject.tif')"
   ]
  },
  {
   "cell_type": "code",
   "execution_count": null,
   "metadata": {},
   "outputs": [],
   "source": []
  },
  {
   "cell_type": "code",
   "execution_count": null,
   "metadata": {},
   "outputs": [],
   "source": []
  },
  {
   "cell_type": "code",
   "execution_count": null,
   "metadata": {},
   "outputs": [],
   "source": []
  }
 ],
 "metadata": {
  "kernelspec": {
   "display_name": "Python 2",
   "language": "python",
   "name": "python2"
  },
  "language_info": {
   "codemirror_mode": {
    "name": "ipython",
    "version": 2
   },
   "file_extension": ".py",
   "mimetype": "text/x-python",
   "name": "python",
   "nbconvert_exporter": "python",
   "pygments_lexer": "ipython2",
   "version": "2.7.14"
  }
 },
 "nbformat": 4,
 "nbformat_minor": 2
}
